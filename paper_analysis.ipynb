{
 "cells": [
  {
   "cell_type": "code",
   "execution_count": 105,
   "metadata": {},
   "outputs": [
    {
     "data": {
      "text/plain": [
       "<Figure size 800x640 with 0 Axes>"
      ]
     },
     "metadata": {},
     "output_type": "display_data"
    }
   ],
   "source": [
    "import pandas as pd\n",
    "import matplotlib.pyplot as plt \n",
    "plt.rcParams[\"figure.figsize\"] = (9,6) \n",
    "plt.rcParams[\"font.family\"] = \"sans-serif\"\n",
    "\n",
    "from matplotlib.pyplot import figure\n",
    "import matplotlib.cm as cm\n",
    "\n",
    "figure(figsize=(10, 8), dpi=80)\n",
    "\n",
    "plt.style.use('ggplot')\n",
    "cmap = cm.get_cmap('Blues')\n",
    "\n",
    "import numpy as np"
   ]
  },
  {
   "cell_type": "markdown",
   "metadata": {},
   "source": [
    "## Epoch Savings"
   ]
  },
  {
   "cell_type": "markdown",
   "metadata": {},
   "source": [
    "#### Load Data"
   ]
  },
  {
   "cell_type": "code",
   "execution_count": 99,
   "metadata": {},
   "outputs": [],
   "source": [
    "# single gpu\n",
    "\n",
    "# stopping\n",
    "gpu1_1e14_stopping = pd.read_csv('./icpp_training_results/1gpu/stopping/1gpu_1e14_stopping_training_data.csv')\n",
    "gpu1_1e15_stopping = pd.read_csv('./icpp_training_results/1gpu/stopping/1gpu_1e15_stopping_training_data.csv')\n",
    "gpu1_1e16_stopping = pd.read_csv('./icpp_training_results/1gpu/stopping/1gpu_1e16_stopping_training_data.csv')\n",
    "\n",
    "# no stopping\n",
    "gpu1_1e14 = pd.read_csv('./icpp_training_results/1gpu/no_stopping/1gpu_1e14_training_data.csv')\n",
    "gpu1_1e15 = pd.read_csv('./icpp_training_results/1gpu/no_stopping/1gpu_1e15_training_data.csv')\n",
    "gpu1_1e16 = pd.read_csv('./icpp_training_results/1gpu/no_stopping/1gpu_1e16_training_data.csv')\n",
    "\n",
    "# four gpu\n",
    "\n",
    "# stopping\n",
    "gpu4_1e14_stopping = pd.read_csv('./icpp_training_results/4gpu/stopping/4gpu_1e14_stopping_training_data.csv')\n",
    "gpu4_1e15_stopping = pd.read_csv('./icpp_training_results/4gpu/stopping/4gpu_1e15_stopping_training_data.csv')\n",
    "gpu4_1e16_stopping = pd.read_csv('./icpp_training_results/4gpu/stopping/4gpu_1e16_stopping_training_data.csv')\n",
    "\n",
    "# no stopping\n",
    "gpu4_1e14 = pd.read_csv('./icpp_training_results/4gpu/no_stopping/4gpu_1e14_training_data.csv')\n",
    "gpu4_1e15 = pd.read_csv('./icpp_training_results/4gpu/no_stopping/4gpu_1e15_training_data.csv')\n",
    "gpu4_1e16 = pd.read_csv('./icpp_training_results/4gpu/no_stopping/4gpu_1e16_training_data.csv')\n"
   ]
  },
  {
   "cell_type": "markdown",
   "metadata": {},
   "source": [
    "For epoch savings, the number of GPUs should be (?) irrelevant, so we just use the different GPUs as repeated tests. It doesn't seem to be irrelevant, though. We should look into that. Is it just random? Should do more tests to find out."
   ]
  },
  {
   "cell_type": "code",
   "execution_count": 100,
   "metadata": {},
   "outputs": [
    {
     "name": "stdout",
     "output_type": "stream",
     "text": [
      "Avg. epochs completed for 1e14: 2134.0\n",
      "Avg. epochs completed for 1e15: 1573.0\n",
      "Avg. epochs completed for 1e16: 1688.0\n",
      "Avg. percent epochs saved for 1e14: 14.639999999999997\n",
      "Avg. percent epochs saved for 1e15: 37.08\n",
      "Avg. percent epochs saved for 1e16: 32.48\n"
     ]
    }
   ],
   "source": [
    "import math\n",
    "num_epochs_without_stopping = len(gpu1_1e14.index)\n",
    "\n",
    "num_epochs_with_stopping_1e14 = [len(gpu1_1e14_stopping.index), len(gpu4_1e14_stopping.index)]\n",
    "num_epochs_with_stopping_1e15 = [len(gpu1_1e15_stopping.index), len(gpu4_1e15_stopping.index)]\n",
    "num_epochs_with_stopping_1e16 = [len(gpu1_1e16_stopping.index), len(gpu4_1e16_stopping.index)]\n",
    "\n",
    "avg_epochs_completed_1e14 = sum(num_epochs_with_stopping_1e14)/len(num_epochs_with_stopping_1e14)\n",
    "avg_epochs_completed_1e15 = sum(num_epochs_with_stopping_1e15)/len(num_epochs_with_stopping_1e15)\n",
    "avg_epochs_completed_1e16 = sum(num_epochs_with_stopping_1e16)/len(num_epochs_with_stopping_1e16)\n",
    "\n",
    "print(\"Avg. epochs completed for 1e14:\", avg_epochs_completed_1e14)\n",
    "print(\"Avg. epochs completed for 1e15:\", avg_epochs_completed_1e15)\n",
    "print(\"Avg. epochs completed for 1e16:\", avg_epochs_completed_1e16)\n",
    "\n",
    "percent_epochs_saved_1e14 = 1-(avg_epochs_completed_1e14/num_epochs_without_stopping)\n",
    "percent_epochs_saved_1e15 = 1-(avg_epochs_completed_1e15/num_epochs_without_stopping)\n",
    "percent_epochs_saved_1e16 = 1-(avg_epochs_completed_1e16/num_epochs_without_stopping)\n",
    "\n",
    "print(\"Avg. percent epochs saved for 1e14:\", percent_epochs_saved_1e14*100)\n",
    "print(\"Avg. percent epochs saved for 1e15:\", percent_epochs_saved_1e15*100)\n",
    "print(\"Avg. percent epochs saved for 1e16:\", percent_epochs_saved_1e16*100)\n",
    "\n"
   ]
  },
  {
   "cell_type": "code",
   "execution_count": 108,
   "metadata": {},
   "outputs": [
    {
     "name": "stdout",
     "output_type": "stream",
     "text": [
      "[[0.57960784 0.77019608 0.87372549 1.        ]\n",
      " [0.23192618 0.54565167 0.76261438 1.        ]\n",
      " [0.03137255 0.28973472 0.57031911 1.        ]]\n",
      "Baseline (2500, 2500, 2500)\n",
      "1GPU (2167, 1647, 1737)\n",
      "4GPU (2101, 1499, 1639)\n"
     ]
    },
    {
     "data": {
      "image/png": "[encoded data removed]",
      "text/plain": [
       "<Figure size 648x432 with 1 Axes>"
      ]
     },
     "metadata": {},
     "output_type": "display_data"
    }
   ],
   "source": [
    "\n",
    "\n",
    "\n",
    "width = 0.2\n",
    "multiplier = 0\n",
    "\n",
    "# https://matplotlib.org/stable/gallery/lines_bars_and_markers/barchart.html#sphx-glr-gallery-lines-bars-and-markers-barchart-py\n",
    "\n",
    "beam_intensity = (\"1e14\", \"1e15\", \"1e16\")\n",
    "epochs_run = {\n",
    "    'Baseline': (num_epochs_without_stopping, num_epochs_without_stopping, num_epochs_without_stopping),\n",
    "    '1GPU': (len(gpu1_1e14_stopping.index), len(gpu1_1e15_stopping.index), len(gpu1_1e16_stopping.index)),\n",
    "    '4GPU': (len(gpu4_1e14_stopping.index), len(gpu4_1e15_stopping.index), len(gpu4_1e16_stopping.index)),\n",
    "}\n",
    "\n",
    "x = np.arange(len(beam_intensity))  # the label locations\n",
    "width = 0.25  # the width of the bars\n",
    "multiplier = 0\n",
    "\n",
    "fig, ax = plt.subplots(layout='constrained')\n",
    "colors = cmap(np.linspace(0.4, 0.9, 3))\n",
    "print(colors)\n",
    "\n",
    "for index, (label, num_epochs) in enumerate(epochs_run.items()):\n",
    "    print(label, num_epochs)\n",
    "    offset = width * multiplier\n",
    "    rects = ax.barh(x + offset, num_epochs, width, label=label, color=colors[index]) #, color= cmap(np.linspace(0, 1, 3))\n",
    "    labels = [str(round((1-(num_epochs[i]/num_epochs_without_stopping))*100, 1))+'%' for i in range(len(num_epochs))]\n",
    "    ax.bar_label(rects, labels=labels ,padding=2)\n",
    "    multiplier += 1\n",
    "\n",
    "# Add some text for labels, title and custom x-axis tick labels, etc.\n",
    "ax.set_xlabel('Epochs Completed', fontsize=15)\n",
    "ax.set_ylabel('Beam Intensity', fontsize=15)\n",
    "\n",
    "ax.set_title('Percent Epochs Saved', fontsize=20)\n",
    "ax.set_yticks(x + width, beam_intensity)\n",
    "ax.legend(loc='upper right')\n",
    "# ax.set_ylim(0, 2500)\n",
    "\n",
    "plt.show()\n"
   ]
  },
  {
   "cell_type": "code",
   "execution_count": null,
   "metadata": {},
   "outputs": [],
   "source": []
  }
 ],
 "metadata": {
  "kernelspec": {
   "display_name": "Python 3.9.12 ('base')",
   "language": "python",
   "name": "python3"
  },
  "language_info": {
   "codemirror_mode": {
    "name": "ipython",
    "version": 3
   },
   "file_extension": ".py",
   "mimetype": "text/x-python",
   "name": "python",
   "nbconvert_exporter": "python",
   "pygments_lexer": "ipython3",
   "version": "3.9.12"
  },
  "orig_nbformat": 4,
  "vscode": {
   "interpreter": {
    "hash": "5d8e2faa28c815775b3c5206064f2fafd40aba95554cafadafdc63449a987d0c"
   }
  }
 },
 "nbformat": 4,
 "nbformat_minor": 2
}
